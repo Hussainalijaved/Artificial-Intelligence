{
  "nbformat": 4,
  "nbformat_minor": 0,
  "metadata": {
    "colab": {
      "provenance": []
    },
    "kernelspec": {
      "name": "python3",
      "display_name": "Python 3"
    },
    "language_info": {
      "name": "python"
    }
  },
  "cells": [
    {
      "cell_type": "code",
      "execution_count": 5,
      "metadata": {
        "colab": {
          "base_uri": "https://localhost:8080/"
        },
        "id": "g2LLsQv1TXsS",
        "outputId": "8b49b2bb-6c63-417e-8802-436a5ebdb471"
      },
      "outputs": [
        {
          "output_type": "stream",
          "name": "stdout",
          "text": [
            "Path found: [(0, 0), (0, 1), (0, 2), (1, 2), (2, 2), (2, 3), (3, 3)]\n"
          ]
        }
      ],
      "source": [
        "from collections import deque\n",
        "\n",
        "def solve_maze(maze, start, exit):\n",
        "    queue = deque()\n",
        "    visited = set()\n",
        "    parent = {}\n",
        "\n",
        "    queue.append(start)\n",
        "    visited.add(start)\n",
        "\n",
        "    while queue:\n",
        "        current = queue.popleft()\n",
        "\n",
        "        if current == exit:\n",
        "            # Path found, backtrack to get the path\n",
        "            path = []\n",
        "            while current != start:\n",
        "                path.append(current)\n",
        "                current = parent[current]\n",
        "            path.append(start)\n",
        "            path.reverse()\n",
        "            return path\n",
        "\n",
        "        # Check adjacent nodes\n",
        "        for action in [(0, 1), (0, -1), (1, 0), (-1, 0)]:\n",
        "            next_node = (current[0] + action[0], current[1] + action[1])\n",
        "            if next_node in maze and next_node not in visited:\n",
        "                queue.append(next_node)\n",
        "                visited.add(next_node)\n",
        "                parent[next_node] = current\n",
        "\n",
        "    # No path found\n",
        "    return None\n",
        "\n",
        "# Example usage\n",
        "maze = {(0, 0), (0, 1), (0, 2), (1, 2), (2, 2), (2, 3), (3, 3)}\n",
        "start = (0, 0)\n",
        "exit = (3, 3)\n",
        "\n",
        "path = solve_maze(maze, start, exit)\n",
        "if path:\n",
        "    print(\"Path found:\", path)\n",
        "else:\n",
        "    print(\"No path found\")\n"
      ]
    },
    {
      "cell_type": "code",
      "source": [
        "# dfs\n",
        "\n",
        "def dfs(visited,graph,node):\n",
        "  print(node , end=\" \")\n",
        "  visited.add(node)\n",
        "\n",
        "  for neighbor in graph[node]:\n",
        "    if neighbor not in visited:\n",
        "      dfs(visited,graph,neighbor)\n",
        "\n",
        "\n",
        "graph = {\n",
        "    'A':['B','C'],\n",
        "    'B':['D','E'],\n",
        "    'C':['F'],\n",
        "    'D':[],\n",
        "    'E':['F'],\n",
        "    'F':[]\n",
        "}\n",
        "\n",
        "visited = set()\n",
        "dfs(visited,graph,'B')"
      ],
      "metadata": {
        "id": "li9L6WGDTbkx"
      },
      "execution_count": null,
      "outputs": []
    },
    {
      "cell_type": "code",
      "source": [
        "from collections import deque\n",
        "\n",
        "def bfs(graph,start):\n",
        "  visited = set()\n",
        "  queue = deque([start])\n",
        "  visited.add(start)\n",
        "\n",
        "  while queue:\n",
        "    node = queue.popleft()\n",
        "    print(node , end=\" \")\n",
        "\n",
        "    for neighbor in graph[node]:\n",
        "      if neighbor not in visited:\n",
        "        queue.append(neighbor)\n",
        "        visited.add(neighbor)\n",
        "\n",
        "graph = {\n",
        "    0: [1, 2],\n",
        "    1: [2],\n",
        "    2: [0, 3],\n",
        "    3: []\n",
        "}\n",
        "\n",
        "bfs(graph, 0)"
      ],
      "metadata": {
        "id": "-SfKgGKlTeuZ"
      },
      "execution_count": null,
      "outputs": []
    },
    {
      "cell_type": "code",
      "source": [
        "#Alpha Beta Pruning\n",
        "#Tic-Tac-Toe Game\n",
        "\n",
        "\n",
        "def minimax_alpha_beta(board, depth, alpha, beta, maximizing_player):\n",
        "    # Check if the game is over or the maximum depth is reached\n",
        "    if depth == 0 or game_over(board):\n",
        "        return evaluate(board)\n",
        "\n",
        "    if maximizing_player:\n",
        "        max_eval = float('-inf')\n",
        "        for move in available_moves(board):\n",
        "            board.make_move(move, 'X')\n",
        "            eval = minimax_alpha_beta(board, depth - 1, alpha, beta, False)\n",
        "            board.undo_move(move)\n",
        "            max_eval = max(max_eval, eval)\n",
        "            alpha = max(alpha, eval)\n",
        "            if beta <= alpha:\n",
        "                break\n",
        "        return max_eval\n",
        "    else:\n",
        "        min_eval = float('inf')\n",
        "        for move in available_moves(board):\n",
        "            board.make_move(move, 'O')\n",
        "            eval = minimax_alpha_beta(board, depth - 1, alpha, beta, True)\n",
        "            board.undo_move(move)\n",
        "            min_eval = min(min_eval, eval)\n",
        "            beta = min(beta, eval)\n",
        "            if beta <= alpha:\n",
        "                break\n",
        "        return min_eval\n",
        "\n",
        "# Example usage:\n",
        "initial_board = [[' ', ' ', ' '],\n",
        "                 [' ', ' ', ' '],\n",
        "                 [' ', ' ', ' ']]\n",
        "\n",
        "alpha = float('-inf')\n",
        "beta = float('inf')\n",
        "maximizing_player = True\n",
        "depth = 3\n",
        "\n",
        "best_value = minimax_alpha_beta(initial_board, depth, alpha, beta,\n",
        "                                maximizing_player)\n",
        "print(\"Best value:\", best_value)\n"
      ],
      "metadata": {
        "id": "OlVrdQ1ZUeB7"
      },
      "execution_count": null,
      "outputs": []
    },
    {
      "cell_type": "code",
      "source": [],
      "metadata": {
        "id": "fOr1VvcIU8Rb"
      },
      "execution_count": null,
      "outputs": []
    }
  ]
}